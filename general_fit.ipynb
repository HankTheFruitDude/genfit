{
 "cells": [
  {
   "cell_type": "markdown",
   "metadata": {},
   "source": [
    "FIT EINER ALLGEMEINEN FUNKTION AN MESSDATEN\n",
    "============================================\n",
    "\n",
    "In diesem notebook kann aus Messwerten, gespeichert als .txt, eine Modellfunktion anhand der Methode der kleinsten Quadrate gewonnen werden. Der Code ist praktisch identisch mit dem Skript genfit.py.\n",
    "\n",
    "Als erstes muss sichergestellt werden, dass die Messdaten in einem .txt file im working directory abgespeichert sind, d.h. in dem Verzeichnis, in dem dieses notebook abgespeichert liegt, bzw. ausgeführt wird.\n",
    "\n",
    "Nun werden die erforderlichen libraries und Funktionen importiert:"
   ]
  },
  {
   "cell_type": "code",
   "execution_count": 1,
   "metadata": {},
   "outputs": [],
   "source": [
    "#!/bin/python\n",
    "# Geschrieben 10/2020, Henry Korhonen henryk@ethz.ch, basierend auf Matlabskripten von Martin Willeke. Hinweise, Bemerkungen und Vorschläge bitte an henryk@ethz.ch.\n",
    "\n",
    "# importieren von libraries bzw. Funktionen.\n",
    "import pandas as pd\n",
    "import numpy as np\n",
    "from scipy import stats\n",
    "from scipy.optimize import curve_fit\n",
    "from math import sqrt\n",
    "import matplotlib.pyplot as plt"
   ]
  },
  {
   "cell_type": "markdown",
   "metadata": {},
   "source": [
    "Als nächstes werden die Messdaten eingelesen. In der ersten Zeile muss sichergestellt werden, dass der Dateiname im Argument von read_table() exakt mit dem des Messwert-files übereinstimmt. Hier im Beispiel ist dies test_lin.txt. Die Messdaten müssen mit Leerschlägen getrennt werden. Alternativ kann man man den Parameter sep anpassen."
   ]
  },
  {
   "cell_type": "code",
   "execution_count": 2,
   "metadata": {},
   "outputs": [],
   "source": [
    "xy = pd.read_table('test_lin.txt', names=['x','y'], sep=r'\\s+') # Lesen der Daten, erstellen eines Dataframes. Als Separator kommt hier eine unbestimmte Anzahl Leerschläge in Frage. Andernfalls \"sep\" anpassen.\n",
    "\n",
    "y = xy['y'] # Relevante Daten aus dem Dataframe extrahieren. Achtung: \"names\" in pd.read_table gibt der ersten Spalte den Namen x und der zweiten y. Unbedingt sicherstellen, dass die richtigen Daten extrahiert werden!\n",
    "x = xy['x']\n",
    "\n",
    "N = len(y) # Anzahl Datenpunkte ermitteln. Diese Anzahl wird weiter unten benötigt, um die Anzahl Freiheitsgrade zu bestimmen."
   ]
  },
  {
   "cell_type": "markdown",
   "metadata": {},
   "source": [
    "Optional: Mit dem nächsten Stück code kann überprüft werden, ob die Daten richtig eingelesen wurden:"
   ]
  },
  {
   "cell_type": "code",
   "execution_count": 12,
   "metadata": {},
   "outputs": [
    {
     "name": "stdout",
     "output_type": "stream",
     "text": [
      "x:\n",
      "0     1.0\n",
      "1     2.0\n",
      "2     3.0\n",
      "3     4.0\n",
      "4     5.0\n",
      "5     6.0\n",
      "6     7.0\n",
      "7     8.0\n",
      "8     9.0\n",
      "9    10.0\n",
      "Name: x, dtype: float64\n",
      "y:\n",
      "0     18.4\n",
      "1     28.9\n",
      "2     35.5\n",
      "3     55.1\n",
      "4     59.0\n",
      "5     72.1\n",
      "6     78.0\n",
      "7     87.0\n",
      "8     99.0\n",
      "9    111.0\n",
      "Name: y, dtype: float64\n"
     ]
    }
   ],
   "source": [
    "print('x:\\n{0}\\ny:\\n{1}'.format(x, y))"
   ]
  },
  {
   "cell_type": "markdown",
   "metadata": {},
   "source": [
    "Nun will eine Funktion definiert werden. Hier ist als Beispiel eine Funktion definiert, die von 5 Parametern abhängt."
   ]
  },
  {
   "cell_type": "code",
   "execution_count": 13,
   "metadata": {},
   "outputs": [],
   "source": [
    "def func(omega, taud, etazero, q, n): # Funktion definieren, die gefittet werden soll. Alle Variablen müssen im Argument (das in Klammern) angegeben werden.\n",
    "\n",
    "    return etazero/( 1+(taud*omega)**q)**((1-n)/q) # Eta(Omega)=Etazero/( 1+(taud*Omega)^q)^((1-n)/q))"
   ]
  },
  {
   "cell_type": "markdown",
   "metadata": {},
   "source": [
    "Im nächsten Schritt passiert die Ausgleichsrechnung. popt wird die 5 Regressionskoeffizienten enthalten, pcov enthält auf der Diagonalen die Varianz der jeweiligen Regressionskoeffizienten und deren Quadratwurzel ist die jeweilige Standardabweichung.\n",
    "\n",
    "Optional: Die Auskommentierte Zeile tut das gleiche wie die erste, jedoch kann man dort einen Bereich angeben, in dem man die Koeffizienten vermutet. (Beispielsweise a würde zwischen alower und aupper vermutet werden)"
   ]
  },
  {
   "cell_type": "code",
   "execution_count": 15,
   "metadata": {},
   "outputs": [
    {
     "data": {
      "text/plain": [
       "array([[ 2.33381423e-07,  7.46855570e-03,  2.42719085e-03,\n",
       "        -9.65308889e-01],\n",
       "       [ 7.46855570e-03,  2.39827987e+02,  7.77916621e+01,\n",
       "        -3.08807472e+04],\n",
       "       [ 2.42719085e-03,  7.77916621e+01,  2.52599702e+01,\n",
       "        -1.00377894e+04],\n",
       "       [-9.65308889e-01, -3.08807472e+04, -1.00377894e+04,\n",
       "         3.99283376e+06]])"
      ]
     },
     "execution_count": 15,
     "metadata": {},
     "output_type": "execute_result"
    }
   ],
   "source": [
    "popt, pcov = curve_fit(func, x, y, maxfev=50000) # fitten der Daten\n",
    "pcov\n",
    "# popt, pcov = curve_fit(func, x, y, bounds=([alower, blower], [aupper, bupper])) # fitten der Daten mit Eingrenzung der Regressionskoeffizienten\n",
    "#pstd = np.sqrt(np.diag(pcov)) # Standardabweichung der Regressionskoeffizienten. Nota bene: auf der Diagonalen von pcov stehen die Varianzen der Regressionskoeffizienten."
   ]
  },
  {
   "cell_type": "markdown",
   "metadata": {},
   "source": [
    "Das m%-Vertrauensintervall lässt sich gemütlich in vier Zeilen berechnen. m muss in diesem Fall hardcoded sein, also durch alpha definiert werden: m = 100*(1-alpha). p wird ermittelt, um sogleich automatisch die Anzahl Freiheitsgrade korrekt zu berechnen (dof), mit welchen der korrekte Student-T-Faktor ermittelt werden kann (t.ppf()).\n"
   ]
  },
  {
   "cell_type": "code",
   "execution_count": 16,
   "metadata": {},
   "outputs": [],
   "source": [
    "alpha = 0.05 # m%-Vertrauensintervall: m = 100*(1-alpha)\n",
    "p = len(popt)\n",
    "dof = max(0,N-p) # Anzahl Freiheitsgrade (nota bene: das hängt von der Anzahl Regressionskoeffizienten in der Fitfunktion ab (siehe def func(...) oben)\n",
    "tinv = stats.t.ppf(1.0-alpha/2., dof) # Student-T-Faktor ermitteln"
   ]
  },
  {
   "cell_type": "markdown",
   "metadata": {},
   "source": [
    "Nun ist alles berechnet und die Ausgabe der Daten kann beginnen. Die ersten vier Zeilen listen sämtliche Regressionskoeffizienten mit ihrem jeweiligen m%-Vertrauensintervall und der jeweiligen Standardabweichung sowie die Anzahl Messungen und Freiheitsgrade auf.\n",
    "\n",
    "Danach werden die Daten und die gefittete Funktion zusammen geplottet. Dieser Plot wird noch nicht gezeigt, dies passiert erst ganz unten im code. Ebenfalls wird eine PNG-Datei sowie eine PDF-Datei davon erstellt. Für den Bericht ist die PDF-Datei am interessantesten, da sie Vektor- und keine Rastergrafik enthält. Der Dateiname sollte jeweils noch direkt im Skript unten im Argument von plt.savefig angepasst werden. Andere Dateitypen, bspw. .svg, können ebenfalls genutzt werden. Hierzu ist die dokumentation von matplotlib.pyplot.savefig hilfreich.\n",
    "\n",
    "Et voilà.\n"
   ]
  },
  {
   "cell_type": "code",
   "execution_count": 20,
   "metadata": {},
   "outputs": [
    {
     "name": "stdout",
     "output_type": "stream",
     "text": [
      "Anzahl Freiheitsgrade: 6\n",
      "Anzahl Messungen: 10\n",
      "==================================\n",
      "Parameter 1: 1.8992556024173274e-07 \n",
      " Vertrauensintervall: [-0.0011819025844703173  0.0011822824355908008] \n",
      " Standardabweichung: 0.00048309566632500186 \n",
      " ==================================\n",
      "Parameter 2: 0.15537523543855475 \n",
      " Vertrauensintervall: [-37.738433169869566  38.049183640746676] \n",
      " Standardabweichung: 15.486380690019796 \n",
      " ==================================\n",
      "Parameter 3: 0.14828710801992206 \n",
      " Vertrauensintervall: [-12.14972002527184  12.446294241311683] \n",
      " Standardabweichung: 5.025929781395554 \n",
      " ==================================\n",
      "Parameter 4: 8.333272198175731 \n",
      " Vertrauensintervall: [-4881.104670109659  4897.771214506011] \n",
      " Standardabweichung: 1998.2076365858086 \n",
      " ==================================\n"
     ]
    },
    {
     "data": {
      "image/png": "[encoded data removed]",
      "text/plain": [
       "<Figure size 432x288 with 1 Axes>"
      ]
     },
     "metadata": {
      "needs_background": "light"
     },
     "output_type": "display_data"
    }
   ],
   "source": [
    "print('Anzahl Freiheitsgrade: {0}\\nAnzahl Messungen: {1}\\n=================================='.format(dof, N))\n",
    "for i, regkoeff,var in zip(range(N), popt, np.diag(pcov)): # Hier werden alle Regressionskoeffizienten mit den entsprechenden Vertrauensintervallen ausgegeben.\n",
    "    sigma = var**0.5\n",
    "    print('Parameter {0}: {1} \\n Vertrauensintervall: [{2}  {3}] \\n Standardabweichung: {4} \\n =================================='.format(i+1, regkoeff, regkoeff - sigma*tinv, regkoeff + sigma*tinv, sigma))\n",
    "\n",
    "plt.plot(x,y,'b.',label='data') # Daten plotten\n",
    "plt.plot(x, func(x, *popt), 'r-', label='fit: taud=%5.3f, etazero=%5.3f, q=%5.3f, n=%5.3f' % tuple(popt)) # Gefittete Funktion plotten. Auch hier muss angepasst werden, wenn mehr als nur a und b genutzt werden sollen (siehe def func(...) oben)\n",
    "\n",
    "\n",
    "plt.xlabel('x') # Labels setzen\n",
    "plt.ylabel('y')\n",
    "plt.legend() # Legende generieren\n",
    "\n",
    "\n",
    "\n",
    "plt.savefig(\"dateiname.pdf\") # Plot als PDF-Datei speichern.\n",
    "plt.savefig(\"dateiname.png\") # Plot als PNG-Datei speichern.\n",
    "\n",
    "plt.show() # Plot anzeigen"
   ]
  }
 ],
 "metadata": {
  "kernelspec": {
   "display_name": "Python 3 (ipykernel)",
   "language": "python",
   "name": "python3"
  },
  "language_info": {
   "codemirror_mode": {
    "name": "ipython",
    "version": 3
   },
   "file_extension": ".py",
   "mimetype": "text/x-python",
   "name": "python",
   "nbconvert_exporter": "python",
   "pygments_lexer": "ipython3",
   "version": "3.10.4"
  }
 },
 "nbformat": 4,
 "nbformat_minor": 4
}
